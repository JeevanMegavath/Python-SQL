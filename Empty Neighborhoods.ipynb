{
 "cells": [
  {
   "cell_type": "code",
   "execution_count": 0,
   "metadata": {
    "application/vnd.databricks.v1+cell": {
     "cellMetadata": {},
     "inputWidgets": {},
     "nuid": "0f3106e5-af0c-49cc-a44a-b7bde8a2c8d6",
     "showTitle": true,
     "title": "Empty Neighborhoods   "
    }
   },
   "outputs": [],
   "source": [
    "#  https://www.interviewquery.com/questions/empty-neighborhoodsd\n",
    "\n",
    "'''We’re given two tables, a users table with demographic information and the neighborhood they live in and a neighborhoods table.##\n",
    "\n",
    "Write a query that returns all neighborhoods that have 0 users. \n",
    "\n",
    "Example:\n",
    "\n",
    "Input:\n",
    "\n",
    "users table\n",
    "\n",
    "Columns\tType\n",
    "id\tINTEGER\n",
    "name\tVARCHAR\n",
    "neighborhood_id\tINTEGER\n",
    "created_at\tDATETIME\n",
    "\n",
    "neighborhoods table\n",
    "\n",
    "Columns\tType\n",
    "id\tINTEGER\n",
    "name\tVARCHAR\n",
    "city_id\tINTEGER\n",
    "\n",
    "Output:\n",
    "Columns\tType\n",
    "https://www.interviewquery.com/questions/empty-neighborhoodsdname\tVARCHAR'''"
   ]
  },
  {
   "cell_type": "code",
   "execution_count": 0,
   "metadata": {
    "application/vnd.databricks.v1+cell": {
     "cellMetadata": {},
     "inputWidgets": {},
     "nuid": "fa619c74-9f48-48a0-8e63-b0955701aa45",
     "showTitle": false,
     "title": ""
    }
   },
   "outputs": [],
   "source": [
    "# We’re given two tables, a users table with demographic information and the neighborhood they live in and a neighborhoods table.\n",
    "\n",
    "# Write a query that returns all neighborhoods that have 0 users"
   ]
  },
  {
   "cell_type": "code",
   "execution_count": 0,
   "metadata": {
    "application/vnd.databricks.v1+cell": {
     "cellMetadata": {},
     "inputWidgets": {},
     "nuid": "2dbf0c9f-134c-498e-865f-f425f9ba5faf",
     "showTitle": true,
     "title": "The Answer "
    }
   },
   "outputs": [],
   "source": [
    "%sql\n",
    "\n",
    "SELECT n.name from neighborhoods n\n",
    "LEFT JOIN users u\n",
    "on n.id = u.neighborhood_id\n",
    "group by n.id\n",
    "having count(users.id)= 0;"
   ]
  },
  {
   "cell_type": "code",
   "execution_count": 0,
   "metadata": {
    "application/vnd.databricks.v1+cell": {
     "cellMetadata": {},
     "inputWidgets": {},
     "nuid": "7bf96be7-273c-4e0f-b0a6-f755da9b37f5",
     "showTitle": false,
     "title": ""
    }
   },
   "outputs": [],
   "source": []
  },
  {
   "cell_type": "code",
   "execution_count": 0,
   "metadata": {
    "application/vnd.databricks.v1+cell": {
     "cellMetadata": {
      "byteLimit": 2048000,
      "implicitDf": true,
      "rowLimit": 10000
     },
     "inputWidgets": {},
     "nuid": "3b2b0c9f-b49a-4272-94fa-49475dadf460",
     "showTitle": false,
     "title": ""
    }
   },
   "outputs": [
    {
     "output_type": "display_data",
     "data": {
      "text/html": [
       "<style scoped>\n",
       "  .table-result-container {\n",
       "    max-height: 300px;\n",
       "    overflow: auto;\n",
       "  }\n",
       "  table, th, td {\n",
       "    border: 1px solid black;\n",
       "    border-collapse: collapse;\n",
       "  }\n",
       "  th, td {\n",
       "    padding: 5px;\n",
       "  }\n",
       "  th {\n",
       "    text-align: left;\n",
       "  }\n",
       "</style><div class='table-result-container'><table class='table-result'><thead style='background-color: white'><tr><th>col_name</th><th>data_type</th><th>comment</th></tr></thead><tbody><tr><td>id</td><td>int</td><td>null</td></tr><tr><td>name</td><td>varchar(50)</td><td>null</td></tr><tr><td>neighborhood_id</td><td>int</td><td>null</td></tr><tr><td>created_at</td><td>date</td><td>null</td></tr></tbody></table></div>"
      ]
     },
     "metadata": {
      "application/vnd.databricks.v1+output": {
       "addedWidgets": {},
       "aggData": [],
       "aggError": "",
       "aggOverflow": false,
       "aggSchema": [],
       "aggSeriesLimitReached": false,
       "aggType": "",
       "arguments": {},
       "columnCustomDisplayInfos": {},
       "data": [
        [
         "id",
         "int",
         null
        ],
        [
         "name",
         "varchar(50)",
         null
        ],
        [
         "neighborhood_id",
         "int",
         null
        ],
        [
         "created_at",
         "date",
         null
        ]
       ],
       "datasetInfos": [],
       "dbfsResultPath": null,
       "isJsonSchema": true,
       "metadata": {},
       "overflow": false,
       "plotOptions": {
        "customPlotOptions": {},
        "displayType": "table",
        "pivotAggregation": null,
        "pivotColumns": null,
        "xColumns": null,
        "yColumns": null
       },
       "removedWidgets": [],
       "schema": [
        {
         "metadata": "{\"comment\":\"name of the column\"}",
         "name": "col_name",
         "type": "\"string\""
        },
        {
         "metadata": "{\"comment\":\"data type of the column\"}",
         "name": "data_type",
         "type": "\"string\""
        },
        {
         "metadata": "{\"comment\":\"comment of the column\"}",
         "name": "comment",
         "type": "\"string\""
        }
       ],
       "type": "table"
      }
     },
     "output_type": "display_data"
    }
   ],
   "source": [
    "%sql\n",
    "CREATE TABLE IF NOT EXISTS users (\n",
    "  id INTEGER,\n",
    "  name VARCHAR(50),\n",
    "  neighborhood_id INTEGER,\n",
    "  created_at DATE\n",
    ");\n",
    "\n",
    "desc users"
   ]
  },
  {
   "cell_type": "code",
   "execution_count": 0,
   "metadata": {
    "application/vnd.databricks.v1+cell": {
     "cellMetadata": {
      "byteLimit": 2048000,
      "implicitDf": true,
      "rowLimit": 10000
     },
     "inputWidgets": {},
     "nuid": "4d70eb98-9017-4f16-9448-d2ee67f0e020",
     "showTitle": false,
     "title": ""
    }
   },
   "outputs": [
    {
     "output_type": "display_data",
     "data": {
      "text/html": [
       "<style scoped>\n",
       "  .table-result-container {\n",
       "    max-height: 300px;\n",
       "    overflow: auto;\n",
       "  }\n",
       "  table, th, td {\n",
       "    border: 1px solid black;\n",
       "    border-collapse: collapse;\n",
       "  }\n",
       "  th, td {\n",
       "    padding: 5px;\n",
       "  }\n",
       "  th {\n",
       "    text-align: left;\n",
       "  }\n",
       "</style><div class='table-result-container'><table class='table-result'><thead style='background-color: white'><tr><th>id</th><th>name</th><th>neighborhood_id</th><th>created_at</th></tr></thead><tbody><tr><td>1</td><td>Jeevan</td><td>5</td><td>2024-03-09</td></tr><tr><td>2</td><td>Jeevan</td><td>5</td><td>2024-03-09</td></tr><tr><td>6</td><td>Jeevan</td><td>5</td><td>2024-03-09</td></tr><tr><td>6</td><td>Jeevan</td><td>5</td><td>2024-03-09</td></tr><tr><td>6</td><td>Jeevan</td><td>5</td><td>2024-03-09</td></tr><tr><td>11</td><td>Jeevan</td><td>5</td><td>2024-03-09</td></tr><tr><td>1</td><td>Jeevan</td><td>5</td><td>null</td></tr></tbody></table></div>"
      ]
     },
     "metadata": {
      "application/vnd.databricks.v1+output": {
       "addedWidgets": {},
       "aggData": [],
       "aggError": "",
       "aggOverflow": false,
       "aggSchema": [],
       "aggSeriesLimitReached": false,
       "aggType": "",
       "arguments": {},
       "columnCustomDisplayInfos": {},
       "data": [
        [
         1,
         "Jeevan",
         5,
         "2024-03-09"
        ],
        [
         2,
         "Jeevan",
         5,
         "2024-03-09"
        ],
        [
         6,
         "Jeevan",
         5,
         "2024-03-09"
        ],
        [
         6,
         "Jeevan",
         5,
         "2024-03-09"
        ],
        [
         6,
         "Jeevan",
         5,
         "2024-03-09"
        ],
        [
         11,
         "Jeevan",
         5,
         "2024-03-09"
        ],
        [
         1,
         "Jeevan",
         5,
         null
        ]
       ],
       "datasetInfos": [],
       "dbfsResultPath": null,
       "isJsonSchema": true,
       "metadata": {},
       "overflow": false,
       "plotOptions": {
        "customPlotOptions": {},
        "displayType": "table",
        "pivotAggregation": null,
        "pivotColumns": null,
        "xColumns": null,
        "yColumns": null
       },
       "removedWidgets": [],
       "schema": [
        {
         "metadata": "{}",
         "name": "id",
         "type": "\"integer\""
        },
        {
         "metadata": "{\"__CHAR_VARCHAR_TYPE_STRING\":\"varchar(50)\"}",
         "name": "name",
         "type": "\"string\""
        },
        {
         "metadata": "{}",
         "name": "neighborhood_id",
         "type": "\"integer\""
        },
        {
         "metadata": "{}",
         "name": "created_at",
         "type": "\"date\""
        }
       ],
       "type": "table"
      }
     },
     "output_type": "display_data"
    }
   ],
   "source": [
    "%sql\n",
    "/* INSERT into users(id, name, neighborhood_id) over(1, \"Jeevan\", 5 )\n",
    "\n",
    "#INSERT INTO users (id, name, neighborhood_id)\n",
    "#VALUES (1, 'Jeevan', 5);*/\n",
    "\n",
    "INSERT INTO users (id, name, neighborhood_id, created_at) VALUES (11, 'Jeevan', 5, current_date);\n",
    "\n",
    "select * from users"
   ]
  },
  {
   "cell_type": "code",
   "execution_count": 0,
   "metadata": {
    "application/vnd.databricks.v1+cell": {
     "cellMetadata": {},
     "inputWidgets": {},
     "nuid": "a7b739da-b025-4b11-bb3d-68e87a12d68e",
     "showTitle": false,
     "title": ""
    }
   },
   "outputs": [],
   "source": []
  },
  {
   "cell_type": "code",
   "execution_count": 0,
   "metadata": {
    "application/vnd.databricks.v1+cell": {
     "cellMetadata": {},
     "inputWidgets": {},
     "nuid": "8a494a0f-d99e-465e-9546-d3bfe6718a93",
     "showTitle": false,
     "title": ""
    }
   },
   "outputs": [],
   "source": []
  }
 ],
 "metadata": {
  "application/vnd.databricks.v1+notebook": {
   "dashboards": [],
   "language": "python",
   "notebookMetadata": {
    "mostRecentlyExecutedCommandWithImplicitDF": {
     "commandId": 3689495419980496,
     "dataframes": [
      "_sqldf"
     ]
    },
    "pythonIndentUnit": 4
   },
   "notebookName": "Empty Neighborhoods",
   "widgets": {}
  }
 },
 "nbformat": 4,
 "nbformat_minor": 0
}
