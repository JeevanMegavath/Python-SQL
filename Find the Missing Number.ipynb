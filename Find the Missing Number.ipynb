{
 "cells": [
  {
   "cell_type": "code",
   "execution_count": 0,
   "metadata": {
    "application/vnd.databricks.v1+cell": {
     "cellMetadata": {
      "byteLimit": 2048000,
      "rowLimit": 10000
     },
     "inputWidgets": {},
     "nuid": "8cdbd535-cc8c-4df2-94e9-d1590e323c7d",
     "showTitle": false,
     "title": ""
    }
   },
   "outputs": [
    {
     "output_type": "stream",
     "name": "stdout",
     "output_type": "stream",
     "text": [
      "8\n21\n"
     ]
    }
   ],
   "source": [
    "def missing_number(nums):\n",
    "    n = int(nums[-1])\n",
    "    print(n)\n",
    "    expected_number = n*(n+1)//2\n",
    "    actual_number = sum(nums)\n",
    "    return expected_number - actual_number\n",
    "\n",
    "nums = [1,2,4,8]\n",
    "print(missing_number(nums))  "
   ]
  },
  {
   "cell_type": "code",
   "execution_count": 0,
   "metadata": {
    "application/vnd.databricks.v1+cell": {
     "cellMetadata": {
      "byteLimit": 2048000,
      "rowLimit": 10000
     },
     "inputWidgets": {},
     "nuid": "3b58662d-582e-499b-9d1b-71c47fd0ac7e",
     "showTitle": false,
     "title": ""
    }
   },
   "outputs": [
    {
     "output_type": "stream",
     "name": "stdout",
     "output_type": "stream",
     "text": [
      "12\n15\n3\n"
     ]
    }
   ],
   "source": [
    "nums = [0,1,2,4,5]\n",
    "\n",
    "l = len(nums)\n",
    "m = 0\n",
    "for i in nums:\n",
    "  m = m + i\n",
    "print(m)\n",
    "y = l * (l + 1) // 2\n",
    "print(y)\n",
    "missing_number = y - m\n",
    "print(int(missing_number))\n"
   ]
  },
  {
   "cell_type": "code",
   "execution_count": 0,
   "metadata": {
    "application/vnd.databricks.v1+cell": {
     "cellMetadata": {
      "byteLimit": 2048000,
      "rowLimit": 10000
     },
     "inputWidgets": {},
     "nuid": "f47cb89b-dde9-423c-9239-51dbcb71367a",
     "showTitle": false,
     "title": ""
    }
   },
   "outputs": [
    {
     "output_type": "stream",
     "name": "stdout",
     "output_type": "stream",
     "text": [
      "Summation Method: 3\nXOR Method: 3\nSet Difference Method: 3\nSorting Method: 3\nArithmetic Progression Method: 3\n"
     ]
    }
   ],
   "source": [
    "# Summation Method\n",
    "def missing_number_sum(nums):\n",
    "    n = len(nums)\n",
    "    expected_sum = n * (n + 1) // 2\n",
    "    actual_sum = sum(nums)\n",
    "    return expected_sum - actual_sum\n",
    "\n",
    "# XOR Method\n",
    "def missing_number_xor(nums):\n",
    "    missing = len(nums)\n",
    "    for i, num in enumerate(nums):\n",
    "        missing ^= i ^ num\n",
    "    return missing\n",
    "\n",
    "# Set Difference Method\n",
    "def missing_number_set_difference(nums):\n",
    "    n = len(nums)\n",
    "    return (set(range(n + 1)) - set(nums)).pop()\n",
    "\n",
    "# Sorting Method\n",
    "def missing_number_sort(nums):\n",
    "    nums.sort()\n",
    "    for i, num in enumerate(nums):\n",
    "        if i != num:\n",
    "            return i\n",
    "    return len(nums)\n",
    "\n",
    "# Arithmetic Progression Method\n",
    "def missing_number_arithmetic(nums):\n",
    "    n = len(nums)\n",
    "    expected_sum = n * (n + 1) // 2\n",
    "    actual_sum = sum(nums)\n",
    "    return expected_sum - actual_sum\n",
    "\n",
    "# Example usage:\n",
    "nums = [0, 1, 2, 4, 5]\n",
    "\n",
    "print(\"Summation Method:\", missing_number_sum(nums))\n",
    "print(\"XOR Method:\", missing_number_xor(nums))\n",
    "print(\"Set Difference Method:\", missing_number_set_difference(nums))\n",
    "print(\"Sorting Method:\", missing_number_sort(nums))\n",
    "print(\"Arithmetic Progression Method:\", missing_number_arithmetic(nums))\n"
   ]
  },
  {
   "cell_type": "code",
   "execution_count": 0,
   "metadata": {
    "application/vnd.databricks.v1+cell": {
     "cellMetadata": {
      "byteLimit": 2048000,
      "rowLimit": 10000
     },
     "inputWidgets": {},
     "nuid": "13203f04-2a46-4c20-848a-3aa5d8c211f6",
     "showTitle": false,
     "title": ""
    }
   },
   "outputs": [
    {
     "output_type": "stream",
     "name": "stdout",
     "output_type": "stream",
     "text": [
      "{0, 1, 2, 3, 4, 5}\n{0, 1, 2, 4, 5}\n{3}\n3\nSet Difference Method: 3\n"
     ]
    }
   ],
   "source": [
    "def missing_number_set_difference(nums):\n",
    "    n = len(nums)\n",
    "    s = set(range(n + 1))\n",
    "    print(s)\n",
    "    y = set(nums)\n",
    "    print(y)\n",
    "    m = (s- y)\n",
    "    print(m)\n",
    "    m = m.pop()\n",
    "    print(m)\n",
    "    return m\n",
    "print(\"Set Difference Method:\", missing_number_set_difference(nums))\n"
   ]
  },
  {
   "cell_type": "code",
   "execution_count": 0,
   "metadata": {
    "application/vnd.databricks.v1+cell": {
     "cellMetadata": {
      "byteLimit": 2048000,
      "rowLimit": 10000
     },
     "inputWidgets": {},
     "nuid": "3379fc26-f622-42a5-b05e-241f57a051ed",
     "showTitle": false,
     "title": ""
    }
   },
   "outputs": [
    {
     "output_type": "stream",
     "name": "stdout",
     "output_type": "stream",
     "text": [
      "MIssing Number is:  2\n"
     ]
    }
   ],
   "source": [
    "nums = [0,1,3,4,5]\n",
    "\n",
    "def missing_Number(nums):\n",
    "    n = len(nums)\n",
    "    return (set(range(n+1))-set(nums)).pop()\n",
    "\n",
    "print(\"MIssing Number is: \", missing_Number(nums))"
   ]
  },
  {
   "cell_type": "code",
   "execution_count": 0,
   "metadata": {
    "application/vnd.databricks.v1+cell": {
     "cellMetadata": {
      "byteLimit": 2048000,
      "rowLimit": 10000
     },
     "inputWidgets": {},
     "nuid": "5ca23e6a-122c-4f8c-a8f0-b369d2b37188",
     "showTitle": false,
     "title": ""
    }
   },
   "outputs": [
    {
     "output_type": "stream",
     "name": "stdout",
     "output_type": "stream",
     "text": [
      "MIssing Number is:  2\n"
     ]
    }
   ],
   "source": [
    "def missing_number_sort(nums):\n",
    "    nums.sort()\n",
    "    for i, num in enumerate(nums):\n",
    "        if i!=num:\n",
    "            return i\n",
    "    \n",
    "   # we removed the return len(nums)\n",
    "\n",
    "print(\"MIssing Number is: \", missing_number_sort(nums))"
   ]
  },
  {
   "cell_type": "code",
   "execution_count": 0,
   "metadata": {
    "application/vnd.databricks.v1+cell": {
     "cellMetadata": {},
     "inputWidgets": {},
     "nuid": "2948e5ea-2a68-4d33-b39c-105a979456c3",
     "showTitle": false,
     "title": ""
    }
   },
   "outputs": [],
   "source": []
  }
 ],
 "metadata": {
  "application/vnd.databricks.v1+notebook": {
   "dashboards": [],
   "language": "python",
   "notebookMetadata": {
    "pythonIndentUnit": 4
   },
   "notebookName": "Find the Missing Number",
   "widgets": {}
  }
 },
 "nbformat": 4,
 "nbformat_minor": 0
}
