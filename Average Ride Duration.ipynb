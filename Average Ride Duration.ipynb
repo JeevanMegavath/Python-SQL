{
 "cells": [
  {
   "cell_type": "code",
   "execution_count": 0,
   "metadata": {
    "application/vnd.databricks.v1+cell": {
     "cellMetadata": {},
     "inputWidgets": {},
     "nuid": "7e8c6bb1-cd96-46d0-a5ed-920220d9bdee",
     "showTitle": true,
     "title": "Average Ride Duration"
    }
   },
   "outputs": [],
   "source": [
    "'''\n",
    "Let’s say you work at Uber. You want to learn how long Uber rides are taking for individual users.\n",
    "\n",
    "Given a rides table, write a query to find the average duration of all rides in minutes. Sort results by passenger_user_id ascending.\n",
    "\n",
    "Input\n",
    "\n",
    "Example:\n",
    "\n",
    "rides table\n",
    "\n",
    "Column\tType\n",
    "id\tINTEGER\n",
    "passenger_user_id\tINTEGER\n",
    "start_dt\tDATETIME\n",
    "end_dt\tDATETIME\n",
    "distance\tFLOAT\n",
    "ride_region\tVARCHAR\n",
    "is_completed\tINTEGER\n",
    "Output\n",
    "\n",
    "Column\tType\n",
    "passenger_user_id\tINTEGER\n",
    "avg_time\tFLOAT\n",
    "'''"
   ]
  },
  {
   "cell_type": "code",
   "execution_count": 0,
   "metadata": {
    "application/vnd.databricks.v1+cell": {
     "cellMetadata": {},
     "inputWidgets": {},
     "nuid": "0cefb4d1-048b-41d4-8bdd-1fc3d9640ceb",
     "showTitle": false,
     "title": ""
    }
   },
   "outputs": [],
   "source": [
    "%sql\n",
    "\n",
    "select passenger_user_id, avg(timestampdiff(minute, start_dt, end_dt)) as avg_time\n",
    "from rides\n",
    "where is_completed = 1\n",
    "group by passenger_user_id\n",
    "order by passenger_user_id asc"
   ]
  }
 ],
 "metadata": {
  "application/vnd.databricks.v1+notebook": {
   "dashboards": [],
   "language": "python",
   "notebookMetadata": {
    "pythonIndentUnit": 4
   },
   "notebookName": "Average Ride Duration",
   "widgets": {}
  }
 },
 "nbformat": 4,
 "nbformat_minor": 0
}
