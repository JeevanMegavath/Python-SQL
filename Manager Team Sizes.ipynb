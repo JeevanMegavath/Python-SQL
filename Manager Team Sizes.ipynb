{
 "cells": [
  {
   "cell_type": "code",
   "execution_count": 0,
   "metadata": {
    "application/vnd.databricks.v1+cell": {
     "cellMetadata": {
      "byteLimit": 2048000,
      "implicitDf": true,
      "rowLimit": 10000
     },
     "inputWidgets": {},
     "nuid": "98b74f80-21ca-4ae6-9070-b362ba82cd45",
     "showTitle": true,
     "title": "Manager Team Sizes"
    }
   },
   "outputs": [
    {
     "output_type": "stream",
     "name": "stdout",
     "output_type": "stream",
     "text": [
      "Unexpected exception formatting exception. Falling back to standard exception\n"
     ]
    },
    {
     "output_type": "stream",
     "name": "stderr",
     "output_type": "stream",
     "text": [
      "Traceback (most recent call last):\n  File \"/databricks/python/lib/python3.9/site-packages/IPython/core/interactiveshell.py\", line 3378, in run_code\n    exec(code_obj, self.user_global_ns, self.user_ns)\n  File \"<command-3689495419980494>\", line 11, in <module>\n    _sqldf = ____databricks_percent_sql()\n  File \"<command-3689495419980494>\", line 4, in ____databricks_percent_sql\n    spark.sql(base64.standard_b64decode(\"LS0gU3RlcCAxOiBDcmVhdGUgbWFuYWdlcnMgdGFibGUKQ1JFQVRFIFRBQkxFIG1hbmFnZXJzICgKICAgIGlkIElOVEVHRVIgUFJJTUFSWSBLRVksCiAgICBuYW1lIFZBUkNIQVIoMjU1KSwKICAgIHRlYW0gVkFSQ0hBUigyNTUpCik=\").decode())\n  File \"/databricks/spark/python/pyspark/instrumentation_utils.py\", line 48, in wrapper\n    res = func(*args, **kwargs)\n  File \"/databricks/spark/python/pyspark/sql/session.py\", line 1387, in sql\n    return DataFrame(self._jsparkSession.sql(sqlQuery, litArgs), self)\n  File \"/databricks/spark/python/lib/py4j-0.10.9.5-src.zip/py4j/java_gateway.py\", line 1321, in __call__\n    return_value = get_return_value(\n  File \"/databricks/spark/python/pyspark/errors/exceptions.py\", line 234, in deco\n    raise converted from None\npyspark.errors.exceptions.AnalysisException: Table constraints are only supported in Unity Catalog.\n\nDuring handling of the above exception, another exception occurred:\n\nTraceback (most recent call last):\n  File \"/databricks/python/lib/python3.9/site-packages/IPython/core/interactiveshell.py\", line 1997, in showtraceback\n    stb = self.InteractiveTB.structured_traceback(\n  File \"/databricks/python/lib/python3.9/site-packages/IPython/core/ultratb.py\", line 1112, in structured_traceback\n    return FormattedTB.structured_traceback(\n  File \"/databricks/python/lib/python3.9/site-packages/IPython/core/ultratb.py\", line 1006, in structured_traceback\n    return VerboseTB.structured_traceback(\n  File \"/databricks/python/lib/python3.9/site-packages/IPython/core/ultratb.py\", line 859, in structured_traceback\n    formatted_exception = self.format_exception_as_a_whole(etype, evalue, etb, number_of_lines_of_context,\n  File \"/databricks/python/lib/python3.9/site-packages/IPython/core/ultratb.py\", line 812, in format_exception_as_a_whole\n    frames.append(self.format_record(r))\n  File \"/databricks/python/lib/python3.9/site-packages/IPython/core/ultratb.py\", line 730, in format_record\n    result += ''.join(_format_traceback_lines(frame_info.lines, Colors, self.has_colors, lvals))\n  File \"/databricks/python/lib/python3.9/site-packages/stack_data/utils.py\", line 145, in cached_property_wrapper\n    value = obj.__dict__[self.func.__name__] = self.func(obj)\n  File \"/databricks/python/lib/python3.9/site-packages/stack_data/core.py\", line 698, in lines\n    pieces = self.included_pieces\n  File \"/databricks/python/lib/python3.9/site-packages/stack_data/utils.py\", line 145, in cached_property_wrapper\n    value = obj.__dict__[self.func.__name__] = self.func(obj)\n  File \"/databricks/python/lib/python3.9/site-packages/stack_data/core.py\", line 649, in included_pieces\n    pos = scope_pieces.index(self.executing_piece)\n  File \"/databricks/python/lib/python3.9/site-packages/stack_data/utils.py\", line 145, in cached_property_wrapper\n    value = obj.__dict__[self.func.__name__] = self.func(obj)\n  File \"/databricks/python/lib/python3.9/site-packages/stack_data/core.py\", line 628, in executing_piece\n    return only(\n  File \"/databricks/python/lib/python3.9/site-packages/executing/executing.py\", line 164, in only\n    raise NotOneValueFound('Expected one value, found 0')\nexecuting.executing.NotOneValueFound: Expected one value, found 0\n"
     ]
    },
    {
     "output_type": "display_data",
     "data": {
      "text/plain": [
       ""
      ]
     },
     "metadata": {
      "application/vnd.databricks.v1+output": {
       "arguments": {},
       "data": "",
       "errorSummary": "<span class='ansi-red-fg'>AnalysisException</span>: Table constraints are only supported in Unity Catalog.",
       "errorTraceType": "ansi",
       "metadata": {},
       "type": "ipynbError"
      }
     },
     "output_type": "display_data"
    }
   ],
   "source": [
    "%sql\n",
    "-- Step 1: Create managers table\n",
    "CREATE TABLE managers (\n",
    "    id INTEGER PRIMARY KEY,\n",
    "    name VARCHAR(255),\n",
    "    team VARCHAR(255)\n",
    ");\n",
    "\n",
    "-- Step 2: Create employees table\n",
    "CREATE TABLE employees (\n",
    "    id INTEGER PRIMARY KEY,\n",
    "    name VARCHAR(255),\n",
    "    manager_id INTEGER,\n",
    "    FOREIGN KEY (manager_id) REFERENCES managers(id)\n",
    ");\n",
    "\n",
    "-- Step 3: Populate tables with sample data\n",
    "INSERT INTO managers (id, name, team) VALUES\n",
    "    (1, 'Manager A', 'Team A'),\n",
    "    (2, 'Manager B', 'Team B');\n",
    "\n",
    "INSERT INTO employees (id, name, manager_id) VALUES\n",
    "    (1, 'Employee 1', 1),\n",
    "    (2, 'Employee 2', 1),\n",
    "    (3, 'Employee 3', 2),\n",
    "    (4, 'Employee 4', 2),\n",
    "    (5, 'Employee 5', 2);\n",
    "\n",
    "-- Step 4: Write a query to identify the manager with the biggest team size\n",
    "SELECT m.name AS manager, COUNT(e.id) AS team_size\n",
    "FROM managers m\n",
    "LEFT JOIN employees e ON m.id = e.manager_id\n",
    "GROUP BY m.id\n",
    "ORDER BY team_size DESC\n",
    "LIMIT 1;\n"
   ]
  },
  {
   "cell_type": "code",
   "execution_count": 0,
   "metadata": {
    "application/vnd.databricks.v1+cell": {
     "cellMetadata": {},
     "inputWidgets": {},
     "nuid": "cebb80b2-9590-4d3f-8883-5011f4940bdb",
     "showTitle": false,
     "title": ""
    }
   },
   "outputs": [],
   "source": []
  }
 ],
 "metadata": {
  "application/vnd.databricks.v1+notebook": {
   "dashboards": [],
   "language": "python",
   "notebookMetadata": {
    "mostRecentlyExecutedCommandWithImplicitDF": {
     "commandId": 3689495419980494,
     "dataframes": [
      "_sqldf"
     ]
    },
    "pythonIndentUnit": 4
   },
   "notebookName": "Manager Team Sizes",
   "widgets": {}
  }
 },
 "nbformat": 4,
 "nbformat_minor": 0
}
