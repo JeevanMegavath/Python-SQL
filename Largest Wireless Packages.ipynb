{
 "cells": [
  {
   "cell_type": "code",
   "execution_count": 0,
   "metadata": {
    "application/vnd.databricks.v1+cell": {
     "cellMetadata": {},
     "inputWidgets": {},
     "nuid": "ebcc3b4a-a620-4f84-b03c-319cd75f18b1",
     "showTitle": false,
     "title": ""
    }
   },
   "outputs": [],
   "source": [
    "%sql\n",
    "The table packet_rates contains data about wireless packages sent from multiple devices to different networks (SSID).\n",
    "\n",
    "Write a query that returns, for each SSID, the largest number of packages sent by a single device in the first 10 minutes of January 1st, 2022.\n",
    "\n",
    "Example:\n",
    "\n",
    "Input:\n",
    "\n",
    "packet_rates table\n",
    "\n",
    "Column\tType\n",
    "packet_id\tINTEGER\n",
    "ssid\tVARCHAR\n",
    "mac_address\tVARCHAR\n",
    "time_captured\tDATETIME\n",
    "packet_size\tINTEGER\n",
    "Output:\n",
    "\n",
    "Column\tType\n",
    "ssid\tVARCHAR\n",
    "max_number_of_packages_sent\tINTEGER"
   ]
  },
  {
   "cell_type": "code",
   "execution_count": 0,
   "metadata": {
    "application/vnd.databricks.v1+cell": {
     "cellMetadata": {},
     "inputWidgets": {},
     "nuid": "f0e63978-b345-453d-9907-3acbf90822bd",
     "showTitle": false,
     "title": ""
    }
   },
   "outputs": [],
   "source": [
    "%sql\n",
    "WITH cte AS (\n",
    "    SELECT ssid, mac_address, COUNT(*) AS number_of_packets_sent\n",
    "    FROM packet_rates\n",
    "    WHERE time_captured < '2022-01-01 00:10:00'\n",
    "    GROUP BY ssid, mac_address\n",
    ")\n",
    "SELECT ssid, MAX(number_of_packets_sent) AS max_number_of_packages_sent\n",
    "FROM cte\n",
    "GROUP BY ssid;\n",
    "\n",
    "\n",
    "select ssid, max(number_of_packets_sent) as max_number_of_packages_sen FROM \n",
    "(\n",
    "SELECT ssid, mac_address, count(*) as number_of_packets_sent\n",
    "from packet_rates\n",
    "where time_captured < '2022-01-01 00:10:00'\n",
    "group by ssid, mac_address\n",
    ") as packate_sents\n",
    "GROUP BY ssid;"
   ]
  },
  {
   "cell_type": "code",
   "execution_count": 0,
   "metadata": {
    "application/vnd.databricks.v1+cell": {
     "cellMetadata": {},
     "inputWidgets": {},
     "nuid": "05556b9c-8072-4b68-9186-c97aafd13ea4",
     "showTitle": false,
     "title": ""
    }
   },
   "outputs": [],
   "source": []
  }
 ],
 "metadata": {
  "application/vnd.databricks.v1+notebook": {
   "dashboards": [],
   "language": "python",
   "notebookMetadata": {
    "pythonIndentUnit": 4
   },
   "notebookName": "Largest Wireless Packages",
   "widgets": {}
  }
 },
 "nbformat": 4,
 "nbformat_minor": 0
}
